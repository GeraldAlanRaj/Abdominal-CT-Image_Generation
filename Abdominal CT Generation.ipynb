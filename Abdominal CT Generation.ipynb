{
  "nbformat": 4,
  "nbformat_minor": 0,
  "metadata": {
    "colab": {
      "provenance": [],
      "gpuType": "T4"
    },
    "kernelspec": {
      "name": "python3",
      "display_name": "Python 3"
    },
    "language_info": {
      "name": "python"
    },
    "accelerator": "GPU"
  },
  "cells": [
    {
      "cell_type": "code",
      "execution_count": 1,
      "metadata": {
        "colab": {
          "base_uri": "https://localhost:8080/"
        },
        "id": "FCPw8i5kWuZ3",
        "outputId": "2167b40b-e0e9-450d-ac80-c73ef0bd2d8a"
      },
      "outputs": [
        {
          "output_type": "stream",
          "name": "stdout",
          "text": [
            "Requirement already satisfied: torch in /usr/local/lib/python3.11/dist-packages (2.6.0+cu124)\n",
            "Requirement already satisfied: torchvision in /usr/local/lib/python3.11/dist-packages (0.21.0+cu124)\n",
            "Requirement already satisfied: numpy in /usr/local/lib/python3.11/dist-packages (2.0.2)\n",
            "Requirement already satisfied: matplotlib in /usr/local/lib/python3.11/dist-packages (3.10.0)\n",
            "Requirement already satisfied: pillow in /usr/local/lib/python3.11/dist-packages (11.2.1)\n",
            "Requirement already satisfied: tqdm in /usr/local/lib/python3.11/dist-packages (4.67.1)\n",
            "Requirement already satisfied: scikit-image in /usr/local/lib/python3.11/dist-packages (0.25.2)\n",
            "Requirement already satisfied: filelock in /usr/local/lib/python3.11/dist-packages (from torch) (3.18.0)\n",
            "Requirement already satisfied: typing-extensions>=4.10.0 in /usr/local/lib/python3.11/dist-packages (from torch) (4.14.0)\n",
            "Requirement already satisfied: networkx in /usr/local/lib/python3.11/dist-packages (from torch) (3.5)\n",
            "Requirement already satisfied: jinja2 in /usr/local/lib/python3.11/dist-packages (from torch) (3.1.6)\n",
            "Requirement already satisfied: fsspec in /usr/local/lib/python3.11/dist-packages (from torch) (2025.3.2)\n",
            "Collecting nvidia-cuda-nvrtc-cu12==12.4.127 (from torch)\n",
            "  Downloading nvidia_cuda_nvrtc_cu12-12.4.127-py3-none-manylinux2014_x86_64.whl.metadata (1.5 kB)\n",
            "Collecting nvidia-cuda-runtime-cu12==12.4.127 (from torch)\n",
            "  Downloading nvidia_cuda_runtime_cu12-12.4.127-py3-none-manylinux2014_x86_64.whl.metadata (1.5 kB)\n",
            "Collecting nvidia-cuda-cupti-cu12==12.4.127 (from torch)\n",
            "  Downloading nvidia_cuda_cupti_cu12-12.4.127-py3-none-manylinux2014_x86_64.whl.metadata (1.6 kB)\n",
            "Collecting nvidia-cudnn-cu12==9.1.0.70 (from torch)\n",
            "  Downloading nvidia_cudnn_cu12-9.1.0.70-py3-none-manylinux2014_x86_64.whl.metadata (1.6 kB)\n",
            "Collecting nvidia-cublas-cu12==12.4.5.8 (from torch)\n",
            "  Downloading nvidia_cublas_cu12-12.4.5.8-py3-none-manylinux2014_x86_64.whl.metadata (1.5 kB)\n",
            "Collecting nvidia-cufft-cu12==11.2.1.3 (from torch)\n",
            "  Downloading nvidia_cufft_cu12-11.2.1.3-py3-none-manylinux2014_x86_64.whl.metadata (1.5 kB)\n",
            "Collecting nvidia-curand-cu12==10.3.5.147 (from torch)\n",
            "  Downloading nvidia_curand_cu12-10.3.5.147-py3-none-manylinux2014_x86_64.whl.metadata (1.5 kB)\n",
            "Collecting nvidia-cusolver-cu12==11.6.1.9 (from torch)\n",
            "  Downloading nvidia_cusolver_cu12-11.6.1.9-py3-none-manylinux2014_x86_64.whl.metadata (1.6 kB)\n",
            "Collecting nvidia-cusparse-cu12==12.3.1.170 (from torch)\n",
            "  Downloading nvidia_cusparse_cu12-12.3.1.170-py3-none-manylinux2014_x86_64.whl.metadata (1.6 kB)\n",
            "Requirement already satisfied: nvidia-cusparselt-cu12==0.6.2 in /usr/local/lib/python3.11/dist-packages (from torch) (0.6.2)\n",
            "Requirement already satisfied: nvidia-nccl-cu12==2.21.5 in /usr/local/lib/python3.11/dist-packages (from torch) (2.21.5)\n",
            "Requirement already satisfied: nvidia-nvtx-cu12==12.4.127 in /usr/local/lib/python3.11/dist-packages (from torch) (12.4.127)\n",
            "Collecting nvidia-nvjitlink-cu12==12.4.127 (from torch)\n",
            "  Downloading nvidia_nvjitlink_cu12-12.4.127-py3-none-manylinux2014_x86_64.whl.metadata (1.5 kB)\n",
            "Requirement already satisfied: triton==3.2.0 in /usr/local/lib/python3.11/dist-packages (from torch) (3.2.0)\n",
            "Requirement already satisfied: sympy==1.13.1 in /usr/local/lib/python3.11/dist-packages (from torch) (1.13.1)\n",
            "Requirement already satisfied: mpmath<1.4,>=1.1.0 in /usr/local/lib/python3.11/dist-packages (from sympy==1.13.1->torch) (1.3.0)\n",
            "Requirement already satisfied: contourpy>=1.0.1 in /usr/local/lib/python3.11/dist-packages (from matplotlib) (1.3.2)\n",
            "Requirement already satisfied: cycler>=0.10 in /usr/local/lib/python3.11/dist-packages (from matplotlib) (0.12.1)\n",
            "Requirement already satisfied: fonttools>=4.22.0 in /usr/local/lib/python3.11/dist-packages (from matplotlib) (4.58.4)\n",
            "Requirement already satisfied: kiwisolver>=1.3.1 in /usr/local/lib/python3.11/dist-packages (from matplotlib) (1.4.8)\n",
            "Requirement already satisfied: packaging>=20.0 in /usr/local/lib/python3.11/dist-packages (from matplotlib) (24.2)\n",
            "Requirement already satisfied: pyparsing>=2.3.1 in /usr/local/lib/python3.11/dist-packages (from matplotlib) (3.2.3)\n",
            "Requirement already satisfied: python-dateutil>=2.7 in /usr/local/lib/python3.11/dist-packages (from matplotlib) (2.9.0.post0)\n",
            "Requirement already satisfied: scipy>=1.11.4 in /usr/local/lib/python3.11/dist-packages (from scikit-image) (1.15.3)\n",
            "Requirement already satisfied: imageio!=2.35.0,>=2.33 in /usr/local/lib/python3.11/dist-packages (from scikit-image) (2.37.0)\n",
            "Requirement already satisfied: tifffile>=2022.8.12 in /usr/local/lib/python3.11/dist-packages (from scikit-image) (2025.6.11)\n",
            "Requirement already satisfied: lazy-loader>=0.4 in /usr/local/lib/python3.11/dist-packages (from scikit-image) (0.4)\n",
            "Requirement already satisfied: six>=1.5 in /usr/local/lib/python3.11/dist-packages (from python-dateutil>=2.7->matplotlib) (1.17.0)\n",
            "Requirement already satisfied: MarkupSafe>=2.0 in /usr/local/lib/python3.11/dist-packages (from jinja2->torch) (3.0.2)\n",
            "Downloading nvidia_cublas_cu12-12.4.5.8-py3-none-manylinux2014_x86_64.whl (363.4 MB)\n",
            "\u001b[2K   \u001b[90m━━━━━━━━━━━━━━━━━━━━━━━━━━━━━━━━━━━━━━━━\u001b[0m \u001b[32m363.4/363.4 MB\u001b[0m \u001b[31m3.8 MB/s\u001b[0m eta \u001b[36m0:00:00\u001b[0m\n",
            "\u001b[?25hDownloading nvidia_cuda_cupti_cu12-12.4.127-py3-none-manylinux2014_x86_64.whl (13.8 MB)\n",
            "\u001b[2K   \u001b[90m━━━━━━━━━━━━━━━━━━━━━━━━━━━━━━━━━━━━━━━━\u001b[0m \u001b[32m13.8/13.8 MB\u001b[0m \u001b[31m49.1 MB/s\u001b[0m eta \u001b[36m0:00:00\u001b[0m\n",
            "\u001b[?25hDownloading nvidia_cuda_nvrtc_cu12-12.4.127-py3-none-manylinux2014_x86_64.whl (24.6 MB)\n",
            "\u001b[2K   \u001b[90m━━━━━━━━━━━━━━━━━━━━━━━━━━━━━━━━━━━━━━━━\u001b[0m \u001b[32m24.6/24.6 MB\u001b[0m \u001b[31m61.7 MB/s\u001b[0m eta \u001b[36m0:00:00\u001b[0m\n",
            "\u001b[?25hDownloading nvidia_cuda_runtime_cu12-12.4.127-py3-none-manylinux2014_x86_64.whl (883 kB)\n",
            "\u001b[2K   \u001b[90m━━━━━━━━━━━━━━━━━━━━━━━━━━━━━━━━━━━━━━━━\u001b[0m \u001b[32m883.7/883.7 kB\u001b[0m \u001b[31m49.3 MB/s\u001b[0m eta \u001b[36m0:00:00\u001b[0m\n",
            "\u001b[?25hDownloading nvidia_cudnn_cu12-9.1.0.70-py3-none-manylinux2014_x86_64.whl (664.8 MB)\n",
            "\u001b[2K   \u001b[90m━━━━━━━━━━━━━━━━━━━━━━━━━━━━━━━━━━━━━━━━\u001b[0m \u001b[32m664.8/664.8 MB\u001b[0m \u001b[31m2.2 MB/s\u001b[0m eta \u001b[36m0:00:00\u001b[0m\n",
            "\u001b[?25hDownloading nvidia_cufft_cu12-11.2.1.3-py3-none-manylinux2014_x86_64.whl (211.5 MB)\n",
            "\u001b[2K   \u001b[90m━━━━━━━━━━━━━━━━━━━━━━━━━━━━━━━━━━━━━━━━\u001b[0m \u001b[32m211.5/211.5 MB\u001b[0m \u001b[31m6.5 MB/s\u001b[0m eta \u001b[36m0:00:00\u001b[0m\n",
            "\u001b[?25hDownloading nvidia_curand_cu12-10.3.5.147-py3-none-manylinux2014_x86_64.whl (56.3 MB)\n",
            "\u001b[2K   \u001b[90m━━━━━━━━━━━━━━━━━━━━━━━━━━━━━━━━━━━━━━━━\u001b[0m \u001b[32m56.3/56.3 MB\u001b[0m \u001b[31m12.9 MB/s\u001b[0m eta \u001b[36m0:00:00\u001b[0m\n",
            "\u001b[?25hDownloading nvidia_cusolver_cu12-11.6.1.9-py3-none-manylinux2014_x86_64.whl (127.9 MB)\n",
            "\u001b[2K   \u001b[90m━━━━━━━━━━━━━━━━━━━━━━━━━━━━━━━━━━━━━━━━\u001b[0m \u001b[32m127.9/127.9 MB\u001b[0m \u001b[31m7.8 MB/s\u001b[0m eta \u001b[36m0:00:00\u001b[0m\n",
            "\u001b[?25hDownloading nvidia_cusparse_cu12-12.3.1.170-py3-none-manylinux2014_x86_64.whl (207.5 MB)\n",
            "\u001b[2K   \u001b[90m━━━━━━━━━━━━━━━━━━━━━━━━━━━━━━━━━━━━━━━━\u001b[0m \u001b[32m207.5/207.5 MB\u001b[0m \u001b[31m5.8 MB/s\u001b[0m eta \u001b[36m0:00:00\u001b[0m\n",
            "\u001b[?25hDownloading nvidia_nvjitlink_cu12-12.4.127-py3-none-manylinux2014_x86_64.whl (21.1 MB)\n",
            "\u001b[2K   \u001b[90m━━━━━━━━━━━━━━━━━━━━━━━━━━━━━━━━━━━━━━━━\u001b[0m \u001b[32m21.1/21.1 MB\u001b[0m \u001b[31m66.6 MB/s\u001b[0m eta \u001b[36m0:00:00\u001b[0m\n",
            "\u001b[?25hInstalling collected packages: nvidia-nvjitlink-cu12, nvidia-curand-cu12, nvidia-cufft-cu12, nvidia-cuda-runtime-cu12, nvidia-cuda-nvrtc-cu12, nvidia-cuda-cupti-cu12, nvidia-cublas-cu12, nvidia-cusparse-cu12, nvidia-cudnn-cu12, nvidia-cusolver-cu12\n",
            "  Attempting uninstall: nvidia-nvjitlink-cu12\n",
            "    Found existing installation: nvidia-nvjitlink-cu12 12.5.82\n",
            "    Uninstalling nvidia-nvjitlink-cu12-12.5.82:\n",
            "      Successfully uninstalled nvidia-nvjitlink-cu12-12.5.82\n",
            "  Attempting uninstall: nvidia-curand-cu12\n",
            "    Found existing installation: nvidia-curand-cu12 10.3.6.82\n",
            "    Uninstalling nvidia-curand-cu12-10.3.6.82:\n",
            "      Successfully uninstalled nvidia-curand-cu12-10.3.6.82\n",
            "  Attempting uninstall: nvidia-cufft-cu12\n",
            "    Found existing installation: nvidia-cufft-cu12 11.2.3.61\n",
            "    Uninstalling nvidia-cufft-cu12-11.2.3.61:\n",
            "      Successfully uninstalled nvidia-cufft-cu12-11.2.3.61\n",
            "  Attempting uninstall: nvidia-cuda-runtime-cu12\n",
            "    Found existing installation: nvidia-cuda-runtime-cu12 12.5.82\n",
            "    Uninstalling nvidia-cuda-runtime-cu12-12.5.82:\n",
            "      Successfully uninstalled nvidia-cuda-runtime-cu12-12.5.82\n",
            "  Attempting uninstall: nvidia-cuda-nvrtc-cu12\n",
            "    Found existing installation: nvidia-cuda-nvrtc-cu12 12.5.82\n",
            "    Uninstalling nvidia-cuda-nvrtc-cu12-12.5.82:\n",
            "      Successfully uninstalled nvidia-cuda-nvrtc-cu12-12.5.82\n",
            "  Attempting uninstall: nvidia-cuda-cupti-cu12\n",
            "    Found existing installation: nvidia-cuda-cupti-cu12 12.5.82\n",
            "    Uninstalling nvidia-cuda-cupti-cu12-12.5.82:\n",
            "      Successfully uninstalled nvidia-cuda-cupti-cu12-12.5.82\n",
            "  Attempting uninstall: nvidia-cublas-cu12\n",
            "    Found existing installation: nvidia-cublas-cu12 12.5.3.2\n",
            "    Uninstalling nvidia-cublas-cu12-12.5.3.2:\n",
            "      Successfully uninstalled nvidia-cublas-cu12-12.5.3.2\n",
            "  Attempting uninstall: nvidia-cusparse-cu12\n",
            "    Found existing installation: nvidia-cusparse-cu12 12.5.1.3\n",
            "    Uninstalling nvidia-cusparse-cu12-12.5.1.3:\n",
            "      Successfully uninstalled nvidia-cusparse-cu12-12.5.1.3\n",
            "  Attempting uninstall: nvidia-cudnn-cu12\n",
            "    Found existing installation: nvidia-cudnn-cu12 9.3.0.75\n",
            "    Uninstalling nvidia-cudnn-cu12-9.3.0.75:\n",
            "      Successfully uninstalled nvidia-cudnn-cu12-9.3.0.75\n",
            "  Attempting uninstall: nvidia-cusolver-cu12\n",
            "    Found existing installation: nvidia-cusolver-cu12 11.6.3.83\n",
            "    Uninstalling nvidia-cusolver-cu12-11.6.3.83:\n",
            "      Successfully uninstalled nvidia-cusolver-cu12-11.6.3.83\n",
            "Successfully installed nvidia-cublas-cu12-12.4.5.8 nvidia-cuda-cupti-cu12-12.4.127 nvidia-cuda-nvrtc-cu12-12.4.127 nvidia-cuda-runtime-cu12-12.4.127 nvidia-cudnn-cu12-9.1.0.70 nvidia-cufft-cu12-11.2.1.3 nvidia-curand-cu12-10.3.5.147 nvidia-cusolver-cu12-11.6.1.9 nvidia-cusparse-cu12-12.3.1.170 nvidia-nvjitlink-cu12-12.4.127\n"
          ]
        }
      ],
      "source": [
        "!pip install torch torchvision numpy matplotlib pillow tqdm scikit-image"
      ]
    },
    {
      "cell_type": "code",
      "source": [
        "# === Imports ===\n",
        "import os\n",
        "import glob\n",
        "import torch\n",
        "import torch.nn as nn\n",
        "import torch.optim as optim\n",
        "import torch.nn.functional as F\n",
        "from torchvision import transforms, models\n",
        "from torch.utils.data import Dataset, DataLoader\n",
        "from PIL import Image\n",
        "import numpy as np\n",
        "import matplotlib.pyplot as plt\n",
        "from tqdm import tqdm\n",
        "from skimage.metrics import structural_similarity as ssim\n",
        "from skimage.metrics import peak_signal_noise_ratio as psnr"
      ],
      "metadata": {
        "id": "Fu0BmwdRW8Ho"
      },
      "execution_count": 2,
      "outputs": []
    },
    {
      "cell_type": "code",
      "source": [
        "# === Dataset ===\n",
        "class CTImageDataset(Dataset):\n",
        "    def __init__(self, image_dir, transform=None):\n",
        "        self.image_dir = image_dir\n",
        "        self.image_files = [f for f in os.listdir(image_dir) if f.lower().endswith('.jpg')]\n",
        "        self.transform = transform\n",
        "\n",
        "    def __len__(self):\n",
        "        return len(self.image_files)\n",
        "\n",
        "    def __getitem__(self, idx):\n",
        "        img_path = os.path.join(self.image_dir, self.image_files[idx])\n",
        "        image = Image.open(img_path).convert(\"L\")\n",
        "        if self.transform:\n",
        "            image = self.transform(image)\n",
        "        return image"
      ],
      "metadata": {
        "id": "WTa11ZxHW9OO"
      },
      "execution_count": 3,
      "outputs": []
    },
    {
      "cell_type": "code",
      "source": [
        "# === Transform ===\n",
        "transform = transforms.Compose([\n",
        "    transforms.Resize((128, 128)),\n",
        "    transforms.RandomApply([\n",
        "        transforms.RandomRotation(10),\n",
        "        transforms.RandomAffine(degrees=0, translate=(0.05, 0.05)),\n",
        "        transforms.ColorJitter(brightness=0.1, contrast=0.1)\n",
        "    ], p=0.5),\n",
        "    transforms.RandomHorizontalFlip(),\n",
        "    transforms.ToTensor(),\n",
        "    transforms.Normalize((0.5,), (0.5,))\n",
        "])"
      ],
      "metadata": {
        "id": "a0C1cKCJW-Yx"
      },
      "execution_count": 4,
      "outputs": []
    },
    {
      "cell_type": "code",
      "source": [
        "# === Sinusoidal Time Embedding ===\n",
        "def sinusoidal_embedding(timesteps, dim):\n",
        "    device = timesteps.device\n",
        "    half_dim = dim // 2\n",
        "    emb = torch.exp(torch.arange(half_dim, device=device) * -np.log(10000.0) / half_dim)\n",
        "    emb = timesteps[:, None] * emb[None, :]\n",
        "    emb = torch.cat([torch.sin(emb), torch.cos(emb)], dim=1)\n",
        "    return emb"
      ],
      "metadata": {
        "id": "AS0DEF1IW_o_"
      },
      "execution_count": 5,
      "outputs": []
    },
    {
      "cell_type": "code",
      "source": [
        "# === UNet Generator with Time Conditioning ===\n",
        "class UNetBlock(nn.Module):\n",
        "    def __init__(self, in_channels, out_channels, emb_dim=None):\n",
        "        super().__init__()\n",
        "        self.use_emb = emb_dim is not None\n",
        "        self.conv1 = nn.Conv2d(in_channels, out_channels, 3, padding=1)\n",
        "        self.norm1 = nn.InstanceNorm2d(out_channels)\n",
        "        self.act1 = nn.ReLU(inplace=True)\n",
        "        if self.use_emb:\n",
        "            self.emb_proj = nn.Linear(emb_dim, out_channels)\n",
        "        self.conv2 = nn.Conv2d(out_channels, out_channels, 3, padding=1)\n",
        "        self.norm2 = nn.InstanceNorm2d(out_channels)\n",
        "        self.act2 = nn.ReLU(inplace=True)\n",
        "\n",
        "    def forward(self, x, emb=None):\n",
        "        x = self.act1(self.norm1(self.conv1(x)))\n",
        "        if self.use_emb and emb is not None:\n",
        "            emb_out = self.emb_proj(emb).view(emb.shape[0], -1, 1, 1)\n",
        "            x = x + emb_out\n",
        "        x = self.act2(self.norm2(self.conv2(x)))\n",
        "        return x\n",
        "\n",
        "class UNetGenerator(nn.Module):\n",
        "    def __init__(self, in_channels=1, base_channels=64, emb_dim=128):\n",
        "        super().__init__()\n",
        "        self.emb_dim = emb_dim\n",
        "        self.time_embed = nn.Sequential(\n",
        "            nn.Linear(emb_dim, emb_dim),\n",
        "            nn.ReLU(),\n",
        "            nn.Linear(emb_dim, emb_dim)\n",
        "        )\n",
        "\n",
        "        self.enc1 = UNetBlock(in_channels, base_channels, emb_dim)\n",
        "        self.pool1 = nn.MaxPool2d(2)\n",
        "        self.enc2 = UNetBlock(base_channels, base_channels * 2, emb_dim)\n",
        "        self.pool2 = nn.MaxPool2d(2)\n",
        "        self.enc3 = UNetBlock(base_channels * 2, base_channels * 4, emb_dim)\n",
        "        self.pool3 = nn.MaxPool2d(2)\n",
        "\n",
        "        self.bottleneck = UNetBlock(base_channels * 4, base_channels * 8, emb_dim)\n",
        "\n",
        "        self.up3 = nn.ConvTranspose2d(base_channels * 8, base_channels * 4, 2, stride=2)\n",
        "        self.dec3 = UNetBlock(base_channels * 8, base_channels * 4, emb_dim)\n",
        "        self.up2 = nn.ConvTranspose2d(base_channels * 4, base_channels * 2, 2, stride=2)\n",
        "        self.dec2 = UNetBlock(base_channels * 4, base_channels * 2, emb_dim)\n",
        "        self.up1 = nn.ConvTranspose2d(base_channels * 2, base_channels, 2, stride=2)\n",
        "        self.dec1 = UNetBlock(base_channels * 2, base_channels, emb_dim)\n",
        "\n",
        "        self.final = nn.Sequential(\n",
        "            nn.Conv2d(base_channels, in_channels, 1),\n",
        "            nn.Tanh()\n",
        "        )\n",
        "\n",
        "    def forward(self, x, t):\n",
        "        emb = sinusoidal_embedding(t, self.emb_dim)\n",
        "        emb = self.time_embed(emb)\n",
        "\n",
        "        e1 = self.enc1(x, emb)\n",
        "        e2 = self.enc2(self.pool1(e1), emb)\n",
        "        e3 = self.enc3(self.pool2(e2), emb)\n",
        "        b = self.bottleneck(self.pool3(e3), emb)\n",
        "\n",
        "        d3 = self.dec3(torch.cat([self.up3(b), e3], dim=1), emb)\n",
        "        d2 = self.dec2(torch.cat([self.up2(d3), e2], dim=1), emb)\n",
        "        d1 = self.dec1(torch.cat([self.up1(d2), e1], dim=1), emb)\n",
        "\n",
        "        return self.final(d1) + x"
      ],
      "metadata": {
        "id": "cKmYy6YZbi2g"
      },
      "execution_count": 6,
      "outputs": []
    },
    {
      "cell_type": "code",
      "source": [
        "# === Discriminator (PatchGAN) ===\n",
        "from torch.nn.utils import spectral_norm\n",
        "\n",
        "class Discriminator(nn.Module):\n",
        "    def __init__(self, in_channels=1):\n",
        "        super().__init__()\n",
        "        self.model = nn.Sequential(\n",
        "            spectral_norm(nn.Conv2d(in_channels, 64, 4, 2, 1)),\n",
        "            nn.LeakyReLU(0.2, inplace=True),\n",
        "            spectral_norm(nn.Conv2d(64, 128, 4, 2, 1)),\n",
        "            nn.InstanceNorm2d(128),\n",
        "            nn.LeakyReLU(0.2, inplace=True),\n",
        "            spectral_norm(nn.Conv2d(128, 256, 4, 2, 1)),\n",
        "            nn.InstanceNorm2d(256),\n",
        "            nn.LeakyReLU(0.2, inplace=True),\n",
        "            spectral_norm(nn.Conv2d(256, 512, 4, 2, 1)),\n",
        "            nn.InstanceNorm2d(512),\n",
        "            nn.LeakyReLU(0.2, inplace=True),\n",
        "            nn.Conv2d(512, 1, 1)\n",
        "        )\n",
        "\n",
        "    def forward(self, x):\n",
        "        return self.model(x)"
      ],
      "metadata": {
        "id": "6ZylujkBbkdg"
      },
      "execution_count": 7,
      "outputs": []
    },
    {
      "cell_type": "code",
      "source": [
        "# === Perceptual Loss ===\n",
        "class VGGPerceptualLoss(nn.Module):\n",
        "    def __init__(self):\n",
        "        super().__init__()\n",
        "        vgg = models.vgg16(weights=models.VGG16_Weights.DEFAULT).features[:8].eval()\n",
        "        for p in vgg.parameters():\n",
        "            p.requires_grad = False\n",
        "        self.vgg = vgg\n",
        "\n",
        "    def forward(self, x, y):\n",
        "        x_rgb = x.repeat(1, 3, 1, 1)\n",
        "        y_rgb = y.repeat(1, 3, 1, 1)\n",
        "        return F.l1_loss(self.vgg(x_rgb), self.vgg(y_rgb))"
      ],
      "metadata": {
        "id": "Z71cK3NLbmz8"
      },
      "execution_count": 8,
      "outputs": []
    },
    {
      "cell_type": "code",
      "source": [
        "# === Diffusion Scheduler ===\n",
        "class DiffusionScheduler:\n",
        "    def __init__(self, timesteps=1000):\n",
        "        self.timesteps = timesteps\n",
        "        self.betas = self._cosine_beta_schedule(timesteps)\n",
        "        self.alphas = 1.0 - self.betas\n",
        "        self.alphas_cumprod = np.cumprod(self.alphas)\n",
        "        self.sqrt_alphas_cumprod = torch.tensor(np.sqrt(self.alphas_cumprod), dtype=torch.float32)\n",
        "        self.sqrt_one_minus_alphas_cumprod = torch.tensor(np.sqrt(1 - self.alphas_cumprod), dtype=torch.float32)\n",
        "\n",
        "    def _cosine_beta_schedule(self, timesteps, s=0.008):\n",
        "        steps = timesteps + 1\n",
        "        x = np.linspace(0, timesteps, steps)\n",
        "        alphas_cumprod = np.cos(((x / timesteps) + s) / (1 + s) * np.pi * 0.5) ** 2\n",
        "        alphas_cumprod = alphas_cumprod / alphas_cumprod[0]\n",
        "        betas = 1 - (alphas_cumprod[1:] / alphas_cumprod[:-1])\n",
        "        return np.clip(betas, 1e-5, 0.1)\n",
        "\n",
        "    def add_noise(self, x, t):\n",
        "        noise = torch.randn_like(x)\n",
        "        t = t.long()\n",
        "        self.sqrt_alphas_cumprod = self.sqrt_alphas_cumprod.to(x.device)\n",
        "        self.sqrt_one_minus_alphas_cumprod = self.sqrt_one_minus_alphas_cumprod.to(x.device)\n",
        "        sqrt_alphas_cumprod_t = self.sqrt_alphas_cumprod[t][:, None, None, None]\n",
        "        sqrt_one_minus_alphas_cumprod_t = self.sqrt_one_minus_alphas_cumprod[t][:, None, None, None]\n",
        "        return sqrt_alphas_cumprod_t * x + sqrt_one_minus_alphas_cumprod_t * noise, noise"
      ],
      "metadata": {
        "id": "UMVCuGpibnzR"
      },
      "execution_count": 9,
      "outputs": []
    },
    {
      "cell_type": "code",
      "source": [
        "# === Training Loop ===\n",
        "def train(generator, discriminator, dataloader, scheduler, device, num_epochs=100):\n",
        "    gen_opt = optim.Adam(generator.parameters(), lr=2e-4, betas=(0.5, 0.999))\n",
        "    disc_opt = optim.Adam(discriminator.parameters(), lr=1e-4, betas=(0.5, 0.999))\n",
        "    perceptual_loss = VGGPerceptualLoss().to(device)\n",
        "    bce_loss = nn.BCEWithLogitsLoss()\n",
        "    l1_loss = nn.L1Loss()\n",
        "\n",
        "    generator.train()\n",
        "    discriminator.train()\n",
        "\n",
        "    for epoch in range(num_epochs):\n",
        "        if epoch < 10:\n",
        "            t_range = (0, 50)\n",
        "        elif epoch < 20:\n",
        "            t_range = (0, 200)\n",
        "        else:\n",
        "            t_range = (0, scheduler.timesteps)\n",
        "\n",
        "        print(f\"\\nEpoch {epoch + 1}/{num_epochs} (t_range = {t_range})\")\n",
        "\n",
        "        for real in tqdm(dataloader):\n",
        "            real = real.to(device)\n",
        "            bs = real.size(0)\n",
        "            t = torch.randint(*t_range, (bs,), device=device)\n",
        "\n",
        "            noised, noise = scheduler.add_noise(real, t)\n",
        "            pred_noise = generator(noised, t)\n",
        "            reconstructed = noised - pred_noise\n",
        "\n",
        "            disc_real = discriminator(real)\n",
        "            disc_fake = discriminator(reconstructed.detach())\n",
        "\n",
        "            real_labels = torch.full_like(disc_real, 0.9)\n",
        "            fake_labels = torch.full_like(disc_fake, 0.1)\n",
        "\n",
        "            loss_disc = bce_loss(disc_real, real_labels) + bce_loss(disc_fake, fake_labels)\n",
        "            disc_opt.zero_grad()\n",
        "            loss_disc.backward()\n",
        "            disc_opt.step()\n",
        "\n",
        "            disc_fake = discriminator(reconstructed)\n",
        "            loss_gan = bce_loss(disc_fake, real_labels)\n",
        "            loss_recon = l1_loss(pred_noise, noise)\n",
        "            loss_percep = perceptual_loss(reconstructed, real)\n",
        "            loss_mse = F.mse_loss(reconstructed, real)\n",
        "\n",
        "            loss_gen = (\n",
        "                1.0 * loss_recon +\n",
        "                0.1 * loss_gan +\n",
        "                0.2 * loss_percep +\n",
        "                0.1 * loss_mse\n",
        "            )\n",
        "\n",
        "            gen_opt.zero_grad()\n",
        "            loss_gen.backward()\n",
        "            gen_opt.step()\n",
        "\n",
        "        print(f\"Loss Gen: {loss_gen.item():.4f}, Loss Disc: {loss_disc.item():.4f}, Percep: {loss_percep.item():.4f}\")"
      ],
      "metadata": {
        "id": "4CK8_O9Ubo8s"
      },
      "execution_count": 10,
      "outputs": []
    },
    {
      "cell_type": "code",
      "source": [
        "# === Image Generation and Metric Evaluation ===\n",
        "def generate_images_from_files(generator, scheduler, real_image_paths, device, save_dir=\"generated_images\", resize=(128, 128)):\n",
        "    generator.eval()\n",
        "    os.makedirs(save_dir, exist_ok=True)\n",
        "    to_tensor = transforms.ToTensor()\n",
        "    with torch.no_grad():\n",
        "        for path in real_image_paths:\n",
        "            base_name = os.path.splitext(os.path.basename(path))[0]\n",
        "            img = Image.open(path).convert(\"L\").resize(resize)\n",
        "            img_tensor = to_tensor(img).unsqueeze(0).to(device) * 2 - 1\n",
        "            t = torch.randint(0, scheduler.timesteps, (1,), device=device)\n",
        "            noised, _ = scheduler.add_noise(img_tensor, t)\n",
        "            pred_noise = generator(noised, t)\n",
        "            reconstructed = noised - pred_noise\n",
        "            out = reconstructed.squeeze().cpu().clamp(-1, 1) * 0.5 + 0.5\n",
        "            out_img = transforms.ToPILImage()(out)\n",
        "            out_img.save(os.path.join(save_dir, f\"{base_name}_synthetic.png\"))\n",
        "            print(f\"Saved: {base_name}_synthetic.png\")\n",
        "\n",
        "\n",
        "def calculate_metrics(real_dir, synthetic_dir, image_list, resize=(128, 128)):\n",
        "    mae_total = 0.0\n",
        "    ssim_total = 0.0\n",
        "    psnr_total = 0.0\n",
        "    count = 0\n",
        "    for filename in image_list:\n",
        "        base_name = os.path.splitext(filename)[0]\n",
        "        real_path = os.path.join(real_dir, filename)\n",
        "        synth_path = os.path.join(synthetic_dir, f\"{base_name}_synthetic.png\")\n",
        "        if not os.path.exists(real_path) or not os.path.exists(synth_path):\n",
        "            print(f\"Skipping missing file: {filename}\")\n",
        "            continue\n",
        "        real_img = Image.open(real_path).convert(\"L\").resize(resize)\n",
        "        synth_img = Image.open(synth_path).convert(\"L\").resize(resize)\n",
        "        real_np = np.array(real_img).astype(np.float32)\n",
        "        synth_np = np.array(synth_img).astype(np.float32)\n",
        "        diff = (real_np - synth_np)\n",
        "        mae = np.mean(np.abs(diff))\n",
        "        ssim_val = ssim(real_np, synth_np, data_range=255.0)\n",
        "        psnr_val = psnr(real_np, synth_np, data_range=255.0)\n",
        "        mae_total += mae\n",
        "        ssim_total += ssim_val\n",
        "        psnr_total += psnr_val\n",
        "        count += 1\n",
        "        print(f\"[{filename}] MAE: {mae:.2f} HU, SSIM: {ssim_val:.4f}, PSNR: {psnr_val:.2f} dB\")\n",
        "    if count > 0:\n",
        "        print(\"\\n=== Average Metrics ===\")\n",
        "        print(f\"MAE  : {mae_total / count:.2f} HU\")\n",
        "        print(f\"SSIM : {ssim_total / count:.4f}\")\n",
        "        print(f\"PSNR : {psnr_total / count:.2f} dB\")\n",
        "    else:\n",
        "        print(\"No matching image pairs found for evaluation.\")"
      ],
      "metadata": {
        "id": "qZqagl9bbqGf"
      },
      "execution_count": 11,
      "outputs": []
    },
    {
      "cell_type": "code",
      "source": [
        "# === Execution Entry ===\n",
        "device = torch.device(\"cuda\" if torch.cuda.is_available() else \"cpu\")\n",
        "generator = UNetGenerator().to(device)\n",
        "discriminator = Discriminator().to(device)\n",
        "scheduler = DiffusionScheduler(timesteps=1000)\n",
        "\n",
        "data_path = \"/content/sample_data/CHAOS/Train\"\n",
        "dataset = CTImageDataset(image_dir=data_path, transform=transform)\n",
        "dataloader = DataLoader(dataset, batch_size=16, shuffle=True)\n",
        "\n",
        "train(generator, discriminator, dataloader, scheduler, device, num_epochs=30)\n",
        "\n",
        "real_image_dir = \"/content/sample_data/CHAOS/Train\"\n",
        "synthetic_image_dir = \"/content/sample_data/Synthetic_CT\"\n",
        "all_real_files = sorted(glob.glob(os.path.join(real_image_dir, \"*.jpg\")))\n",
        "real_image_paths = all_real_files[:25]\n",
        "generate_images_from_files(generator, scheduler, real_image_paths, device, save_dir=synthetic_image_dir)\n",
        "image_list = [os.path.basename(p) for p in real_image_paths]\n",
        "calculate_metrics(real_image_dir, synthetic_image_dir, image_list)"
      ],
      "metadata": {
        "colab": {
          "base_uri": "https://localhost:8080/"
        },
        "id": "sph9pTc_brjH",
        "outputId": "b94dbc5b-d114-4003-ae41-5432d4ff519b"
      },
      "execution_count": 12,
      "outputs": [
        {
          "output_type": "stream",
          "name": "stderr",
          "text": [
            "Downloading: \"https://download.pytorch.org/models/vgg16-397923af.pth\" to /root/.cache/torch/hub/checkpoints/vgg16-397923af.pth\n",
            "100%|██████████| 528M/528M [00:06<00:00, 86.0MB/s]\n"
          ]
        },
        {
          "output_type": "stream",
          "name": "stdout",
          "text": [
            "\n",
            "Epoch 1/30 (t_range = (0, 50))\n"
          ]
        },
        {
          "output_type": "stream",
          "name": "stderr",
          "text": [
            "100%|██████████| 19/19 [00:06<00:00,  3.00it/s]\n"
          ]
        },
        {
          "output_type": "stream",
          "name": "stdout",
          "text": [
            "Loss Gen: 1.0488, Loss Disc: 1.3376, Percep: 0.9092\n",
            "\n",
            "Epoch 2/30 (t_range = (0, 50))\n"
          ]
        },
        {
          "output_type": "stream",
          "name": "stderr",
          "text": [
            "100%|██████████| 19/19 [00:04<00:00,  3.87it/s]\n"
          ]
        },
        {
          "output_type": "stream",
          "name": "stdout",
          "text": [
            "Loss Gen: 0.9731, Loss Disc: 1.3658, Percep: 0.6775\n",
            "\n",
            "Epoch 3/30 (t_range = (0, 50))\n"
          ]
        },
        {
          "output_type": "stream",
          "name": "stderr",
          "text": [
            "100%|██████████| 19/19 [00:04<00:00,  3.86it/s]\n"
          ]
        },
        {
          "output_type": "stream",
          "name": "stdout",
          "text": [
            "Loss Gen: 0.9635, Loss Disc: 1.3678, Percep: 0.5541\n",
            "\n",
            "Epoch 4/30 (t_range = (0, 50))\n"
          ]
        },
        {
          "output_type": "stream",
          "name": "stderr",
          "text": [
            "100%|██████████| 19/19 [00:04<00:00,  3.84it/s]\n"
          ]
        },
        {
          "output_type": "stream",
          "name": "stdout",
          "text": [
            "Loss Gen: 0.9584, Loss Disc: 1.3522, Percep: 0.6133\n",
            "\n",
            "Epoch 5/30 (t_range = (0, 50))\n"
          ]
        },
        {
          "output_type": "stream",
          "name": "stderr",
          "text": [
            "100%|██████████| 19/19 [00:04<00:00,  3.83it/s]\n"
          ]
        },
        {
          "output_type": "stream",
          "name": "stdout",
          "text": [
            "Loss Gen: 0.9614, Loss Disc: 1.3287, Percep: 0.5837\n",
            "\n",
            "Epoch 6/30 (t_range = (0, 50))\n"
          ]
        },
        {
          "output_type": "stream",
          "name": "stderr",
          "text": [
            "100%|██████████| 19/19 [00:05<00:00,  3.79it/s]\n"
          ]
        },
        {
          "output_type": "stream",
          "name": "stdout",
          "text": [
            "Loss Gen: 0.9395, Loss Disc: 1.3533, Percep: 0.4964\n",
            "\n",
            "Epoch 7/30 (t_range = (0, 50))\n"
          ]
        },
        {
          "output_type": "stream",
          "name": "stderr",
          "text": [
            "100%|██████████| 19/19 [00:04<00:00,  3.80it/s]\n"
          ]
        },
        {
          "output_type": "stream",
          "name": "stdout",
          "text": [
            "Loss Gen: 0.9550, Loss Disc: 1.4103, Percep: 0.5704\n",
            "\n",
            "Epoch 8/30 (t_range = (0, 50))\n"
          ]
        },
        {
          "output_type": "stream",
          "name": "stderr",
          "text": [
            "100%|██████████| 19/19 [00:05<00:00,  3.78it/s]\n"
          ]
        },
        {
          "output_type": "stream",
          "name": "stdout",
          "text": [
            "Loss Gen: 0.9441, Loss Disc: 1.3224, Percep: 0.5420\n",
            "\n",
            "Epoch 9/30 (t_range = (0, 50))\n"
          ]
        },
        {
          "output_type": "stream",
          "name": "stderr",
          "text": [
            "100%|██████████| 19/19 [00:05<00:00,  3.76it/s]\n"
          ]
        },
        {
          "output_type": "stream",
          "name": "stdout",
          "text": [
            "Loss Gen: 0.9377, Loss Disc: 1.3653, Percep: 0.4836\n",
            "\n",
            "Epoch 10/30 (t_range = (0, 50))\n"
          ]
        },
        {
          "output_type": "stream",
          "name": "stderr",
          "text": [
            "100%|██████████| 19/19 [00:05<00:00,  3.75it/s]\n"
          ]
        },
        {
          "output_type": "stream",
          "name": "stdout",
          "text": [
            "Loss Gen: 0.9361, Loss Disc: 1.3892, Percep: 0.4906\n",
            "\n",
            "Epoch 11/30 (t_range = (0, 200))\n"
          ]
        },
        {
          "output_type": "stream",
          "name": "stderr",
          "text": [
            "100%|██████████| 19/19 [00:05<00:00,  3.73it/s]\n"
          ]
        },
        {
          "output_type": "stream",
          "name": "stdout",
          "text": [
            "Loss Gen: 0.9280, Loss Disc: 1.2750, Percep: 0.8545\n",
            "\n",
            "Epoch 12/30 (t_range = (0, 200))\n"
          ]
        },
        {
          "output_type": "stream",
          "name": "stderr",
          "text": [
            "100%|██████████| 19/19 [00:05<00:00,  3.71it/s]\n"
          ]
        },
        {
          "output_type": "stream",
          "name": "stdout",
          "text": [
            "Loss Gen: 0.8898, Loss Disc: 1.3269, Percep: 0.9092\n",
            "\n",
            "Epoch 13/30 (t_range = (0, 200))\n"
          ]
        },
        {
          "output_type": "stream",
          "name": "stderr",
          "text": [
            "100%|██████████| 19/19 [00:05<00:00,  3.68it/s]\n"
          ]
        },
        {
          "output_type": "stream",
          "name": "stdout",
          "text": [
            "Loss Gen: 0.8964, Loss Disc: 1.3602, Percep: 0.8295\n",
            "\n",
            "Epoch 14/30 (t_range = (0, 200))\n"
          ]
        },
        {
          "output_type": "stream",
          "name": "stderr",
          "text": [
            "100%|██████████| 19/19 [00:05<00:00,  3.68it/s]\n"
          ]
        },
        {
          "output_type": "stream",
          "name": "stdout",
          "text": [
            "Loss Gen: 0.8835, Loss Disc: 1.3932, Percep: 0.8158\n",
            "\n",
            "Epoch 15/30 (t_range = (0, 200))\n"
          ]
        },
        {
          "output_type": "stream",
          "name": "stderr",
          "text": [
            "100%|██████████| 19/19 [00:05<00:00,  3.66it/s]\n"
          ]
        },
        {
          "output_type": "stream",
          "name": "stdout",
          "text": [
            "Loss Gen: 0.8993, Loss Disc: 1.3449, Percep: 0.6957\n",
            "\n",
            "Epoch 16/30 (t_range = (0, 200))\n"
          ]
        },
        {
          "output_type": "stream",
          "name": "stderr",
          "text": [
            "100%|██████████| 19/19 [00:05<00:00,  3.65it/s]\n"
          ]
        },
        {
          "output_type": "stream",
          "name": "stdout",
          "text": [
            "Loss Gen: 0.8905, Loss Disc: 1.2603, Percep: 0.7715\n",
            "\n",
            "Epoch 17/30 (t_range = (0, 200))\n"
          ]
        },
        {
          "output_type": "stream",
          "name": "stderr",
          "text": [
            "100%|██████████| 19/19 [00:05<00:00,  3.63it/s]\n"
          ]
        },
        {
          "output_type": "stream",
          "name": "stdout",
          "text": [
            "Loss Gen: 0.8856, Loss Disc: 1.3581, Percep: 0.6787\n",
            "\n",
            "Epoch 18/30 (t_range = (0, 200))\n"
          ]
        },
        {
          "output_type": "stream",
          "name": "stderr",
          "text": [
            "100%|██████████| 19/19 [00:05<00:00,  3.62it/s]\n"
          ]
        },
        {
          "output_type": "stream",
          "name": "stdout",
          "text": [
            "Loss Gen: 0.8759, Loss Disc: 1.3560, Percep: 0.6930\n",
            "\n",
            "Epoch 19/30 (t_range = (0, 200))\n"
          ]
        },
        {
          "output_type": "stream",
          "name": "stderr",
          "text": [
            "100%|██████████| 19/19 [00:05<00:00,  3.60it/s]\n"
          ]
        },
        {
          "output_type": "stream",
          "name": "stdout",
          "text": [
            "Loss Gen: 0.8639, Loss Disc: 1.3318, Percep: 0.7413\n",
            "\n",
            "Epoch 20/30 (t_range = (0, 200))\n"
          ]
        },
        {
          "output_type": "stream",
          "name": "stderr",
          "text": [
            "100%|██████████| 19/19 [00:05<00:00,  3.58it/s]\n"
          ]
        },
        {
          "output_type": "stream",
          "name": "stdout",
          "text": [
            "Loss Gen: 0.8833, Loss Disc: 1.3390, Percep: 0.7094\n",
            "\n",
            "Epoch 21/30 (t_range = (0, 1000))\n"
          ]
        },
        {
          "output_type": "stream",
          "name": "stderr",
          "text": [
            "100%|██████████| 19/19 [00:05<00:00,  3.57it/s]\n"
          ]
        },
        {
          "output_type": "stream",
          "name": "stdout",
          "text": [
            "Loss Gen: 0.6980, Loss Disc: 1.1940, Percep: 1.8108\n",
            "\n",
            "Epoch 22/30 (t_range = (0, 1000))\n"
          ]
        },
        {
          "output_type": "stream",
          "name": "stderr",
          "text": [
            "100%|██████████| 19/19 [00:05<00:00,  3.54it/s]\n"
          ]
        },
        {
          "output_type": "stream",
          "name": "stdout",
          "text": [
            "Loss Gen: 0.7077, Loss Disc: 1.1754, Percep: 1.4766\n",
            "\n",
            "Epoch 23/30 (t_range = (0, 1000))\n"
          ]
        },
        {
          "output_type": "stream",
          "name": "stderr",
          "text": [
            "100%|██████████| 19/19 [00:05<00:00,  3.52it/s]\n"
          ]
        },
        {
          "output_type": "stream",
          "name": "stdout",
          "text": [
            "Loss Gen: 0.7143, Loss Disc: 1.1638, Percep: 1.3002\n",
            "\n",
            "Epoch 24/30 (t_range = (0, 1000))\n"
          ]
        },
        {
          "output_type": "stream",
          "name": "stderr",
          "text": [
            "100%|██████████| 19/19 [00:05<00:00,  3.48it/s]\n"
          ]
        },
        {
          "output_type": "stream",
          "name": "stdout",
          "text": [
            "Loss Gen: 0.6884, Loss Disc: 1.1037, Percep: 1.4825\n",
            "\n",
            "Epoch 25/30 (t_range = (0, 1000))\n"
          ]
        },
        {
          "output_type": "stream",
          "name": "stderr",
          "text": [
            "100%|██████████| 19/19 [00:05<00:00,  3.49it/s]\n"
          ]
        },
        {
          "output_type": "stream",
          "name": "stdout",
          "text": [
            "Loss Gen: 0.7101, Loss Disc: 1.1743, Percep: 1.3693\n",
            "\n",
            "Epoch 26/30 (t_range = (0, 1000))\n"
          ]
        },
        {
          "output_type": "stream",
          "name": "stderr",
          "text": [
            "100%|██████████| 19/19 [00:05<00:00,  3.47it/s]\n"
          ]
        },
        {
          "output_type": "stream",
          "name": "stdout",
          "text": [
            "Loss Gen: 0.7986, Loss Disc: 1.2689, Percep: 1.1180\n",
            "\n",
            "Epoch 27/30 (t_range = (0, 1000))\n"
          ]
        },
        {
          "output_type": "stream",
          "name": "stderr",
          "text": [
            "100%|██████████| 19/19 [00:05<00:00,  3.52it/s]\n"
          ]
        },
        {
          "output_type": "stream",
          "name": "stdout",
          "text": [
            "Loss Gen: 0.6863, Loss Disc: 1.0962, Percep: 1.2625\n",
            "\n",
            "Epoch 28/30 (t_range = (0, 1000))\n"
          ]
        },
        {
          "output_type": "stream",
          "name": "stderr",
          "text": [
            "100%|██████████| 19/19 [00:05<00:00,  3.52it/s]\n"
          ]
        },
        {
          "output_type": "stream",
          "name": "stdout",
          "text": [
            "Loss Gen: 0.6696, Loss Disc: 1.0204, Percep: 1.4396\n",
            "\n",
            "Epoch 29/30 (t_range = (0, 1000))\n"
          ]
        },
        {
          "output_type": "stream",
          "name": "stderr",
          "text": [
            "100%|██████████| 19/19 [00:05<00:00,  3.55it/s]\n"
          ]
        },
        {
          "output_type": "stream",
          "name": "stdout",
          "text": [
            "Loss Gen: 0.7410, Loss Disc: 1.3096, Percep: 1.0695\n",
            "\n",
            "Epoch 30/30 (t_range = (0, 1000))\n"
          ]
        },
        {
          "output_type": "stream",
          "name": "stderr",
          "text": [
            "100%|██████████| 19/19 [00:05<00:00,  3.56it/s]\n"
          ]
        },
        {
          "output_type": "stream",
          "name": "stdout",
          "text": [
            "Loss Gen: 0.6453, Loss Disc: 1.1356, Percep: 1.3340\n",
            "Saved: 1_i0000,0000b_synthetic.png\n",
            "Saved: 1_i0001,0000b_synthetic.png\n",
            "Saved: 1_i0002,0000b_synthetic.png\n",
            "Saved: 1_i0003,0000b_synthetic.png\n",
            "Saved: 1_i0004,0000b_synthetic.png\n",
            "Saved: 1_i0005,0000b_synthetic.png\n",
            "Saved: 1_i0006,0000b_synthetic.png\n",
            "Saved: 1_i0007,0000b_synthetic.png\n",
            "Saved: 1_i0008,0000b_synthetic.png\n",
            "Saved: 1_i0009,0000b_synthetic.png\n",
            "Saved: 1_i0010,0000b_synthetic.png\n",
            "Saved: 1_i0011,0000b_synthetic.png\n",
            "Saved: 1_i0012,0000b_synthetic.png\n",
            "Saved: 1_i0013,0000b_synthetic.png\n",
            "Saved: 1_i0014,0000b_synthetic.png\n",
            "Saved: 1_i0015,0000b_synthetic.png\n",
            "Saved: 1_i0016,0000b_synthetic.png\n",
            "Saved: 1_i0017,0000b_synthetic.png\n",
            "Saved: 1_i0018,0000b_synthetic.png\n",
            "Saved: 1_i0019,0000b_synthetic.png\n",
            "Saved: 1_i0020,0000b_synthetic.png\n",
            "Saved: 1_i0021,0000b_synthetic.png\n",
            "Saved: 1_i0022,0000b_synthetic.png\n",
            "Saved: 1_i0023,0000b_synthetic.png\n",
            "Saved: 1_i0024,0000b_synthetic.png\n",
            "[1_i0000,0000b.jpg] MAE: 8.42 HU, SSIM: 0.7962, PSNR: 27.22 dB\n",
            "[1_i0001,0000b.jpg] MAE: 33.47 HU, SSIM: 0.4507, PSNR: 16.14 dB\n",
            "[1_i0002,0000b.jpg] MAE: 8.41 HU, SSIM: 0.7831, PSNR: 26.95 dB\n",
            "[1_i0003,0000b.jpg] MAE: 54.67 HU, SSIM: 0.2592, PSNR: 11.87 dB\n",
            "[1_i0004,0000b.jpg] MAE: 12.96 HU, SSIM: 0.6993, PSNR: 23.49 dB\n",
            "[1_i0005,0000b.jpg] MAE: 10.40 HU, SSIM: 0.7740, PSNR: 25.56 dB\n",
            "[1_i0006,0000b.jpg] MAE: 46.44 HU, SSIM: 0.3023, PSNR: 13.52 dB\n",
            "[1_i0007,0000b.jpg] MAE: 10.13 HU, SSIM: 0.7479, PSNR: 25.44 dB\n",
            "[1_i0008,0000b.jpg] MAE: 9.96 HU, SSIM: 0.7552, PSNR: 25.61 dB\n",
            "[1_i0009,0000b.jpg] MAE: 10.93 HU, SSIM: 0.7404, PSNR: 24.70 dB\n",
            "[1_i0010,0000b.jpg] MAE: 9.49 HU, SSIM: 0.8079, PSNR: 26.64 dB\n",
            "[1_i0011,0000b.jpg] MAE: 10.41 HU, SSIM: 0.7342, PSNR: 24.68 dB\n",
            "[1_i0012,0000b.jpg] MAE: 9.44 HU, SSIM: 0.7749, PSNR: 25.96 dB\n",
            "[1_i0013,0000b.jpg] MAE: 28.48 HU, SSIM: 0.5378, PSNR: 17.72 dB\n",
            "[1_i0014,0000b.jpg] MAE: 10.01 HU, SSIM: 0.7485, PSNR: 25.16 dB\n",
            "[1_i0015,0000b.jpg] MAE: 11.08 HU, SSIM: 0.7997, PSNR: 25.47 dB\n",
            "[1_i0016,0000b.jpg] MAE: 50.10 HU, SSIM: 0.3306, PSNR: 12.79 dB\n",
            "[1_i0017,0000b.jpg] MAE: 56.21 HU, SSIM: 0.2923, PSNR: 11.75 dB\n",
            "[1_i0018,0000b.jpg] MAE: 45.36 HU, SSIM: 0.3544, PSNR: 13.43 dB\n",
            "[1_i0019,0000b.jpg] MAE: 9.61 HU, SSIM: 0.7666, PSNR: 25.37 dB\n",
            "[1_i0020,0000b.jpg] MAE: 7.93 HU, SSIM: 0.7937, PSNR: 26.57 dB\n",
            "[1_i0021,0000b.jpg] MAE: 11.17 HU, SSIM: 0.7519, PSNR: 24.48 dB\n",
            "[1_i0022,0000b.jpg] MAE: 10.10 HU, SSIM: 0.8250, PSNR: 26.21 dB\n",
            "[1_i0023,0000b.jpg] MAE: 11.39 HU, SSIM: 0.8094, PSNR: 25.35 dB\n",
            "[1_i0024,0000b.jpg] MAE: 52.40 HU, SSIM: 0.2957, PSNR: 12.33 dB\n",
            "\n",
            "=== Average Metrics ===\n",
            "MAE  : 21.56 HU\n",
            "SSIM : 0.6372\n",
            "PSNR : 21.78 dB\n"
          ]
        }
      ]
    }
  ]
}